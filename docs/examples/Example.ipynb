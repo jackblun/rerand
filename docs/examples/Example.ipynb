{
 "cells": [
  {
   "cell_type": "markdown",
   "metadata": {},
   "source": [
    "# rerand example\n",
    "\n",
    "Here I provide an example of how to use the rerand package.\n",
    "\n",
    "First, lets import a few modules, including the `Randomisation` class, the main class in the `rerand` package."
   ]
  },
  {
   "cell_type": "code",
   "execution_count": 58,
   "metadata": {},
   "outputs": [],
   "source": [
    "from rerand.Randomisation import Randomisation\n",
    "import numpy as np\n",
    "import pandas as pd"
   ]
  },
  {
   "cell_type": "markdown",
   "metadata": {},
   "source": [
    "## Simple treatment vs control case\n",
    "\n",
    "Let's say we want to run a 50/50 experiment on 1000 observations with a single treatment group and a control group. We have access to three covariates, and we want to rerandomise until we achieve balance across these three covariates.\n",
    "\n",
    "First, simulate some covariates data:"
   ]
  },
  {
   "cell_type": "code",
   "execution_count": 59,
   "metadata": {},
   "outputs": [],
   "source": [
    "n = 1000\n",
    "\n",
    "x = pd.DataFrame({\n",
    "    'x1': np.random.normal(0, 1, n),\n",
    "    'x2': np.random.normal(0, 1, n),\n",
    "    'x3': np.random.normal(0, 1, n),\n",
    "})"
   ]
  },
  {
   "cell_type": "markdown",
   "metadata": {},
   "source": [
    "Now, let's configure the remaining inputs into the `Randomisation` class, starting with the variants and randomisation probabilities."
   ]
  },
  {
   "cell_type": "code",
   "execution_count": 60,
   "metadata": {},
   "outputs": [],
   "source": [
    "variants = {\n",
    "    'treatment': 0.5,\n",
    "    'control': 0.5\n",
    "}"
   ]
  },
  {
   "cell_type": "markdown",
   "metadata": {},
   "source": [
    "Next, let's choose a distance metric:"
   ]
  },
  {
   "cell_type": "code",
   "execution_count": 61,
   "metadata": {},
   "outputs": [],
   "source": [
    "distance_metric = 'Euclidean'"
   ]
  },
  {
   "cell_type": "markdown",
   "metadata": {},
   "source": [
    "Now choose a tolerance. This is the distance that we consider to be acceptable for balance."
   ]
  },
  {
   "cell_type": "code",
   "execution_count": 62,
   "metadata": {},
   "outputs": [],
   "source": [
    "tol = 0.05"
   ]
  },
  {
   "cell_type": "markdown",
   "metadata": {},
   "source": [
    "Now choose the maximum number of times we'd like to attempt to achieve this distance."
   ]
  },
  {
   "cell_type": "code",
   "execution_count": 63,
   "metadata": {},
   "outputs": [],
   "source": [
    "max_reps = 100"
   ]
  },
  {
   "cell_type": "markdown",
   "metadata": {},
   "source": [
    "Now let's plug this into the `Randomisation` class."
   ]
  },
  {
   "cell_type": "code",
   "execution_count": 64,
   "metadata": {},
   "outputs": [
    {
     "name": "stderr",
     "output_type": "stream",
     "text": [
      "INFO:root:Initialising Randomisation class\n"
     ]
    }
   ],
   "source": [
    "rand = Randomisation(covariates=x,\n",
    "                     variants=variants,\n",
    "                     distance_metric=distance_metric,\n",
    "                     tol=tol,\n",
    "                     max_reps=max_reps)"
   ]
  },
  {
   "cell_type": "markdown",
   "metadata": {},
   "source": [
    "We can now use the `randomise` method to obtain treatment and control groups that are balanced across all three covariates."
   ]
  },
  {
   "cell_type": "code",
   "execution_count": 65,
   "metadata": {},
   "outputs": [
    {
     "name": "stderr",
     "output_type": "stream",
     "text": [
      "INFO:root:Randomisation: 1, Distance = 0.15\n",
      "INFO:root:Randomisation: 2, Distance = 0.08\n",
      "INFO:root:Randomisation: 3, Distance = 0.05\n",
      "INFO:root:Randomisation: 4, Distance = 0.07\n",
      "INFO:root:Randomisation: 5, Distance = 0.12\n",
      "INFO:root:Randomisation: 6, Distance = 0.12\n",
      "INFO:root:Randomisation: 7, Distance = 0.06\n",
      "INFO:root:Randomisation: 8, Distance = 0.12\n",
      "INFO:root:Randomisation: 9, Distance = 0.15\n",
      "INFO:root:Randomisation: 10, Distance = 0.13\n",
      "INFO:root:Randomisation: 11, Distance = 0.14\n",
      "INFO:root:Randomisation: 12, Distance = 0.17\n",
      "INFO:root:Randomisation: 13, Distance = 0.11\n",
      "INFO:root:Randomisation: 14, Distance = 0.17\n",
      "INFO:root:Randomisation: 15, Distance = 0.11\n",
      "INFO:root:Randomisation: 16, Distance = 0.07\n",
      "INFO:root:Randomisation: 17, Distance = 0.19\n",
      "INFO:root:Randomisation: 18, Distance = 0.1\n",
      "INFO:root:Randomisation: 19, Distance = 0.07\n",
      "INFO:root:Randomisation: 20, Distance = 0.13\n",
      "INFO:root:Randomisation: 21, Distance = 0.16\n",
      "INFO:root:Randomisation: 22, Distance = 0.1\n",
      "INFO:root:Randomisation: 23, Distance = 0.11\n",
      "INFO:root:Randomisation: 24, Distance = 0.17\n",
      "INFO:root:Randomisation: 25, Distance = 0.03\n",
      "INFO:root:25 randomisations needed to achieve balance with tolerance 0.05\n"
     ]
    }
   ],
   "source": [
    "assignment_vector = rand.randomise()"
   ]
  },
  {
   "cell_type": "markdown",
   "metadata": {},
   "source": [
    "You can see how many randomisations were required to achieve the selected tolerance distance.\n",
    "\n",
    "The `randomise` method returns a list of assignments."
   ]
  },
  {
   "cell_type": "code",
   "execution_count": 66,
   "metadata": {},
   "outputs": [
    {
     "name": "stdout",
     "output_type": "stream",
     "text": [
      "['treatment' 'control' 'control' 'treatment' 'control' 'control' 'control'\n",
      " 'treatment' 'control']\n"
     ]
    }
   ],
   "source": [
    "print(assignment_vector[0:9])"
   ]
  },
  {
   "cell_type": "markdown",
   "metadata": {},
   "source": [
    "## Example with seeds and multiple variants\n",
    "\n",
    "Let's now move on to a more complex example. \n",
    "\n",
    "Firstly, a key concern when randomising is reproducibility. The module supports a list of seeds, with each seed corresponding to a potential rerandomisation. This must be at least as long as the maximum number of randomisations, provided by the `max_reps` attribute. Identical lists of seeds will result in identical randomisations.\n",
    "\n",
    "Secondly, in many experiments we do not only have a treatment group and a control group. Rather, we have multiple treatment groups (or 'variants'). This is supported. When using more than two groups, the relevant distance is the maximum distance across all pairwise comparisons. The distance between any two groups cannot exceed the chosen `tol`.\n",
    "\n",
    "Let's run through the example again, with some new settings."
   ]
  },
  {
   "cell_type": "code",
   "execution_count": 71,
   "metadata": {},
   "outputs": [],
   "source": [
    "seeds = range(300)\n",
    "variants = {\n",
    "    'a': 0.5,\n",
    "    'b': 0.3,\n",
    "    'c': 0.2\n",
    "}\n",
    "distance_metric = 'Euclidean'\n",
    "max_reps = 300\n",
    "tol = 0.1"
   ]
  },
  {
   "cell_type": "code",
   "execution_count": 72,
   "metadata": {},
   "outputs": [
    {
     "name": "stderr",
     "output_type": "stream",
     "text": [
      "INFO:root:Initialising Randomisation class\n"
     ]
    }
   ],
   "source": [
    "rand = Randomisation(covariates=x,\n",
    "                     variants=variants,\n",
    "                     distance_metric=distance_metric,\n",
    "                     tol=tol,\n",
    "                     max_reps=max_reps,\n",
    "                     seeds=seeds)"
   ]
  },
  {
   "cell_type": "code",
   "execution_count": 73,
   "metadata": {},
   "outputs": [
    {
     "name": "stderr",
     "output_type": "stream",
     "text": [
      "INFO:root:Randomisation: 1, Distance = 0.17\n",
      "INFO:root:Randomisation: 2, Distance = 0.2\n",
      "INFO:root:Randomisation: 3, Distance = 0.08\n",
      "INFO:root:3 randomisations needed to achieve balance with tolerance 0.1\n"
     ]
    }
   ],
   "source": [
    "assignment_vector = rand.randomise()"
   ]
  },
  {
   "cell_type": "code",
   "execution_count": 74,
   "metadata": {},
   "outputs": [
    {
     "name": "stdout",
     "output_type": "stream",
     "text": [
      "['a' 'a' 'b' 'a' 'a' 'a' 'a' 'b' 'a']\n"
     ]
    }
   ],
   "source": [
    "print(assignment_vector[0:9])"
   ]
  },
  {
   "cell_type": "code",
   "execution_count": null,
   "metadata": {},
   "outputs": [],
   "source": []
  }
 ],
 "metadata": {
  "kernelspec": {
   "display_name": "Python 3 (ipykernel)",
   "language": "python",
   "name": "python3"
  },
  "language_info": {
   "codemirror_mode": {
    "name": "ipython",
    "version": 3
   },
   "file_extension": ".py",
   "mimetype": "text/x-python",
   "name": "python",
   "nbconvert_exporter": "python",
   "pygments_lexer": "ipython3",
   "version": "3.10.3"
  },
  "vscode": {
   "interpreter": {
    "hash": "1310c74f9fad4397f046751215979ab05c5802b39336985359ddb5cab7378966"
   }
  }
 },
 "nbformat": 4,
 "nbformat_minor": 2
}
